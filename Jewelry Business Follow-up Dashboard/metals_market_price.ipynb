{
 "cells": [
  {
   "cell_type": "markdown",
   "metadata": {},
   "source": [
    "Jewelry Business Dashboard - Metal Price"
   ]
  },
  {
   "cell_type": "markdown",
   "metadata": {},
   "source": [
    "Install on Ananconda Navigator"
   ]
  },
  {
   "cell_type": "code",
   "execution_count": 8,
   "metadata": {},
   "outputs": [],
   "source": [
    "# pip install requests"
   ]
  },
  {
   "cell_type": "markdown",
   "metadata": {},
   "source": [
    "Import all packages needed"
   ]
  },
  {
   "cell_type": "code",
   "execution_count": 3,
   "metadata": {},
   "outputs": [],
   "source": [
    "import requests\n",
    "import json\n",
    "import pandas as pd"
   ]
  },
  {
   "cell_type": "markdown",
   "metadata": {},
   "source": [
    "Making the API request to retrieve today's gold and silver rates"
   ]
  },
  {
   "cell_type": "code",
   "execution_count": 10,
   "metadata": {},
   "outputs": [],
   "source": [
    "# Request\n",
    "\n",
    "# Function's creation for gold\n",
    "def make_gapi_request_gold():\n",
    "    api_key = \"goldapi-3ku2i8sm5wj23gi-io\"\n",
    "    symbol = \"XAU\"  # Gold\n",
    "    curr = \"EUR\"\n",
    "    date = \"\"\n",
    "\n",
    "    url = f\"https://www.goldapi.io/api/{symbol}/{curr}{date}\"\n",
    "    \n",
    "    headers = {\n",
    "        \"x-access-token\": api_key,\n",
    "        \"Content-Type\": \"application/json\"  # Asking for a JSON \n",
    "    }\n",
    "    \n",
    "    try:\n",
    "        response = requests.get(url, headers=headers)\n",
    "        response.raise_for_status()\n",
    "        \n",
    "        # Convert the answer into a dictionary\n",
    "        result = response.json()\n",
    "\n",
    "        \n",
    "        # Convert into a dataframe\n",
    "        df_gold = pd.DataFrame([result])  # Each dictionary become a line of the dataframe\n",
    "        # print(df_gold)  \n",
    "\n",
    "        return df_gold\n",
    "\n",
    "    except requests.exceptions.RequestException as e:\n",
    "        print(\"Error:\", str(e))\n",
    "        return None\n",
    "# Function's end\n",
    "\n",
    "# Function's creation for silver\n",
    "def make_gapi_request_silver():\n",
    "    api_key = \"goldapi-3ku2i8sm5wj23gi-io\"\n",
    "    symbol = \"XAG\"  # Silver\n",
    "    curr = \"EUR\"\n",
    "    date = \"\"\n",
    "\n",
    "    url = f\"https://www.goldapi.io/api/{symbol}/{curr}{date}\"\n",
    "    \n",
    "    headers = {\n",
    "        \"x-access-token\": api_key,\n",
    "        \"Content-Type\": \"application/json\"  \n",
    "    }\n",
    "    \n",
    "    try:\n",
    "        response = requests.get(url, headers=headers)\n",
    "        response.raise_for_status()\n",
    "        \n",
    "        result = response.json()\n",
    "\n",
    "        df_silver = pd.DataFrame([result])\n",
    "        # print(df_silver)\n",
    "\n",
    "        return df_silver\n",
    "\n",
    "    except requests.exceptions.RequestException as e:\n",
    "        print(\"Error:\", str(e))\n",
    "        return None\n",
    "# Function's end\n",
    "\n",
    "# Calling the two functions\n",
    "df_gold = make_gapi_request_gold()\n",
    "df_silver = make_gapi_request_silver()\n",
    "\n"
   ]
  },
  {
   "cell_type": "code",
   "execution_count": 11,
   "metadata": {},
   "outputs": [],
   "source": [
    "# Concatenate the gold and silver dfs\n",
    "df_merged = pd.concat([df_gold, df_silver], ignore_index=True, sort=False)"
   ]
  },
  {
   "cell_type": "code",
   "execution_count": 12,
   "metadata": {},
   "outputs": [
    {
     "data": {
      "text/html": [
       "<div>\n",
       "<style scoped>\n",
       "    .dataframe tbody tr th:only-of-type {\n",
       "        vertical-align: middle;\n",
       "    }\n",
       "\n",
       "    .dataframe tbody tr th {\n",
       "        vertical-align: top;\n",
       "    }\n",
       "\n",
       "    .dataframe thead th {\n",
       "        text-align: right;\n",
       "    }\n",
       "</style>\n",
       "<table border=\"1\" class=\"dataframe\">\n",
       "  <thead>\n",
       "    <tr style=\"text-align: right;\">\n",
       "      <th></th>\n",
       "      <th>timestamp</th>\n",
       "      <th>metal</th>\n",
       "      <th>currency</th>\n",
       "      <th>exchange</th>\n",
       "      <th>symbol</th>\n",
       "      <th>prev_close_price</th>\n",
       "      <th>open_price</th>\n",
       "      <th>low_price</th>\n",
       "      <th>high_price</th>\n",
       "      <th>open_time</th>\n",
       "      <th>...</th>\n",
       "      <th>ask</th>\n",
       "      <th>bid</th>\n",
       "      <th>price_gram_24k</th>\n",
       "      <th>price_gram_22k</th>\n",
       "      <th>price_gram_21k</th>\n",
       "      <th>price_gram_20k</th>\n",
       "      <th>price_gram_18k</th>\n",
       "      <th>price_gram_16k</th>\n",
       "      <th>price_gram_14k</th>\n",
       "      <th>price_gram_10k</th>\n",
       "    </tr>\n",
       "  </thead>\n",
       "  <tbody>\n",
       "    <tr>\n",
       "      <th>0</th>\n",
       "      <td>1744238975</td>\n",
       "      <td>XAU</td>\n",
       "      <td>EUR</td>\n",
       "      <td>FOREXCOM</td>\n",
       "      <td>FOREXCOM:XAUEUR</td>\n",
       "      <td>2815.42</td>\n",
       "      <td>2815.42</td>\n",
       "      <td>2803.65</td>\n",
       "      <td>2819.5800</td>\n",
       "      <td>1744243200</td>\n",
       "      <td>...</td>\n",
       "      <td>2815.890</td>\n",
       "      <td>2814.380</td>\n",
       "      <td>90.5087</td>\n",
       "      <td>82.9663</td>\n",
       "      <td>79.1951</td>\n",
       "      <td>75.4239</td>\n",
       "      <td>67.8815</td>\n",
       "      <td>60.3391</td>\n",
       "      <td>52.7967</td>\n",
       "      <td>37.7120</td>\n",
       "    </tr>\n",
       "    <tr>\n",
       "      <th>1</th>\n",
       "      <td>1744238975</td>\n",
       "      <td>XAG</td>\n",
       "      <td>EUR</td>\n",
       "      <td>SAXO</td>\n",
       "      <td>SAXO:XAGEUR</td>\n",
       "      <td>28.36</td>\n",
       "      <td>28.36</td>\n",
       "      <td>28.17</td>\n",
       "      <td>28.3625</td>\n",
       "      <td>1744243200</td>\n",
       "      <td>...</td>\n",
       "      <td>28.269</td>\n",
       "      <td>28.231</td>\n",
       "      <td>0.9083</td>\n",
       "      <td>0.8326</td>\n",
       "      <td>0.7947</td>\n",
       "      <td>0.7569</td>\n",
       "      <td>0.6812</td>\n",
       "      <td>0.6055</td>\n",
       "      <td>0.5298</td>\n",
       "      <td>0.3784</td>\n",
       "    </tr>\n",
       "  </tbody>\n",
       "</table>\n",
       "<p>2 rows × 23 columns</p>\n",
       "</div>"
      ],
      "text/plain": [
       "    timestamp metal currency  exchange           symbol  prev_close_price  \\\n",
       "0  1744238975   XAU      EUR  FOREXCOM  FOREXCOM:XAUEUR           2815.42   \n",
       "1  1744238975   XAG      EUR      SAXO      SAXO:XAGEUR             28.36   \n",
       "\n",
       "   open_price  low_price  high_price   open_time  ...       ask       bid  \\\n",
       "0     2815.42    2803.65   2819.5800  1744243200  ...  2815.890  2814.380   \n",
       "1       28.36      28.17     28.3625  1744243200  ...    28.269    28.231   \n",
       "\n",
       "   price_gram_24k  price_gram_22k  price_gram_21k  price_gram_20k  \\\n",
       "0         90.5087         82.9663         79.1951         75.4239   \n",
       "1          0.9083          0.8326          0.7947          0.7569   \n",
       "\n",
       "   price_gram_18k  price_gram_16k  price_gram_14k  price_gram_10k  \n",
       "0         67.8815         60.3391         52.7967         37.7120  \n",
       "1          0.6812          0.6055          0.5298          0.3784  \n",
       "\n",
       "[2 rows x 23 columns]"
      ]
     },
     "execution_count": 12,
     "metadata": {},
     "output_type": "execute_result"
    }
   ],
   "source": [
    "# Visualize the merged df\n",
    "df_merged"
   ]
  },
  {
   "cell_type": "code",
   "execution_count": 13,
   "metadata": {},
   "outputs": [],
   "source": [
    "# Export the df to csv\n",
    "df_merged.to_csv('Rate_Silver_Gold_Today.csv')"
   ]
  }
 ],
 "metadata": {
  "kernelspec": {
   "display_name": "Jewelry_Project",
   "language": "python",
   "name": "python3"
  },
  "language_info": {
   "codemirror_mode": {
    "name": "ipython",
    "version": 3
   },
   "file_extension": ".py",
   "mimetype": "text/x-python",
   "name": "python",
   "nbconvert_exporter": "python",
   "pygments_lexer": "ipython3",
   "version": "3.12.9"
  }
 },
 "nbformat": 4,
 "nbformat_minor": 2
}
